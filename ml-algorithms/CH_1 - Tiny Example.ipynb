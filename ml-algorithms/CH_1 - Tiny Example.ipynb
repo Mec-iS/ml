{
 "cells": [
  {
   "cell_type": "markdown",
   "metadata": {},
   "source": [
    "# Calculate requests threshold for a web service"
   ]
  },
  {
   "cell_type": "markdown",
   "metadata": {},
   "source": [
    "**Given the initial data about the last 4 weeks, we want to estimate when the threshold 100,000 requests per hour will be hit.**"
   ]
  },
  {
   "cell_type": "code",
   "execution_count": 41,
   "metadata": {
    "collapsed": false
   },
   "outputs": [
    {
     "name": "stdout",
     "output_type": "stream",
     "text": [
      "[[  1.00000000e+00   2.27200000e+03]\n",
      " [  2.00000000e+00              nan]\n",
      " [  3.00000000e+00   1.38600000e+03]\n",
      " [  4.00000000e+00   1.36500000e+03]\n",
      " [  5.00000000e+00   1.48800000e+03]\n",
      " [  6.00000000e+00   1.33700000e+03]\n",
      " [  7.00000000e+00   1.88300000e+03]\n",
      " [  8.00000000e+00   2.28300000e+03]\n",
      " [  9.00000000e+00   1.33500000e+03]\n",
      " [  1.00000000e+01   1.02500000e+03]]\n"
     ]
    }
   ],
   "source": [
    "import scipy as sp\n",
    "\n",
    "#import data from tsv\n",
    "data = sp.genfromtxt(\"web_traffic.tsv\", delimiter=\"\\t\")\n",
    "\n",
    "print(data[:10])"
   ]
  },
  {
   "cell_type": "code",
   "execution_count": 38,
   "metadata": {
    "collapsed": false
   },
   "outputs": [
    {
     "name": "stdout",
     "output_type": "stream",
     "text": [
      "(743, 2)\n"
     ]
    }
   ],
   "source": [
    "print(data.shape)"
   ]
  },
  {
   "cell_type": "markdown",
   "metadata": {},
   "source": [
    "##### It is more convenient for `SciPy` to separate the dimensions into two vectors."
   ]
  },
  {
   "cell_type": "code",
   "execution_count": 42,
   "metadata": {
    "collapsed": false
   },
   "outputs": [
    {
     "name": "stdout",
     "output_type": "stream",
     "text": [
      "(743,) (743,)\n"
     ]
    }
   ],
   "source": [
    "x = data[:, 0]\n",
    "y = data[:, 1]\n",
    "\n",
    "print(x.shape, y.shape)"
   ]
  },
  {
   "cell_type": "markdown",
   "metadata": {},
   "source": [
    "Find if there is some `NaN`"
   ]
  },
  {
   "cell_type": "code",
   "execution_count": 9,
   "metadata": {
    "collapsed": false
   },
   "outputs": [
    {
     "data": {
      "text/plain": [
       "8"
      ]
     },
     "execution_count": 9,
     "metadata": {},
     "output_type": "execute_result"
    }
   ],
   "source": [
    "sp.sum(sp.isnan(y))"
   ]
  },
  {
   "cell_type": "markdown",
   "metadata": {},
   "source": [
    "##### We can exclude this record from the set"
   ]
  },
  {
   "cell_type": "code",
   "execution_count": 44,
   "metadata": {
    "collapsed": false
   },
   "outputs": [
    {
     "name": "stdout",
     "output_type": "stream",
     "text": [
      "743 743\n"
     ]
    }
   ],
   "source": [
    "avg = [sp.mean(y) for i in range(8)]\n",
    "\n",
    "x = x[~sp.isnan(x)]\n",
    "y = sp.append(y[~sp.isnan(y)], avg)\n",
    "\n",
    "print(x.size, y.size)"
   ]
  },
  {
   "cell_type": "markdown",
   "metadata": {},
   "source": [
    "##### Print the data in dots:"
   ]
  },
  {
   "cell_type": "code",
   "execution_count": 45,
   "metadata": {
    "collapsed": false
   },
   "outputs": [
    {
     "data": {
      "image/png": "[encoded data removed]",
      "text/plain": [
       "<matplotlib.figure.Figure at 0x25353aad0b8>"
      ]
     },
     "metadata": {},
     "output_type": "display_data"
    }
   ],
   "source": [
    "import matplotlib.pyplot as plt\n",
    "\n",
    "def print_dots():\n",
    "    plt.scatter(x, y, s=10)\n",
    "    plt.xticks([w*7*24 for w in range(10)], ['week {}'.format(w) for w in range(10)])\n",
    "    plt.autoscale(True, 'x', tight=True)\n",
    "\n",
    "print_dots()\n",
    "plt.grid()\n",
    "plt.show()"
   ]
  },
  {
   "cell_type": "markdown",
   "metadata": {},
   "source": [
    "### Building a simple model"
   ]
  },
  {
   "cell_type": "markdown",
   "metadata": {},
   "source": [
    "#### Define error evaluation"
   ]
  },
  {
   "cell_type": "code",
   "execution_count": null,
   "metadata": {
    "collapsed": true
   },
   "outputs": [],
   "source": [
    "def error(f, x, y):\n",
    "    \"\"\"\n",
    "    Square of the difference.\n",
    "    \"\"\"\n",
    "    return sp.sum((f(x) - y) ** 2)"
   ]
  },
  {
   "cell_type": "markdown",
   "metadata": {},
   "source": [
    "#### Start from a straight line"
   ]
  },
  {
   "cell_type": "markdown",
   "metadata": {},
   "source": [
    "`sp.polyfit()` ([doc](https://docs.scipy.org/doc/numpy/reference/generated/numpy.polyfit.html)) returns the (polynomial coefficient of the) model function that minimize the error for a given polynomial"
   ]
  },
  {
   "cell_type": "code",
   "execution_count": 31,
   "metadata": {
    "collapsed": false
   },
   "outputs": [
    {
     "name": "stdout",
     "output_type": "stream",
     "text": [
      "Polynomial coefficients: [ 1.  0.]\n",
      "Residuals: [  5.86337070e-23]\n",
      "---\n",
      "Best straight line to fit the data is: f(x) = 0.9999999999999996 * x + 0.0\n"
     ]
    }
   ],
   "source": [
    "fp1, residuals, rank, sv, round_ = sp.polyfit(x, y, 1, full=True)\n",
    "print('Polynomial coefficients: {}'.format(fp1))\n",
    "print('Residuals: {}'.format(residuals))\n",
    "print('---')\n",
    "print('Best straight line to fit the data is: f(x) = {} * x + {}'.format(fp1[0], fp1[1]))"
   ]
  },
  {
   "cell_type": "markdown",
   "metadata": {},
   "source": [
    "#### Plotting more precise models"
   ]
  },
  {
   "cell_type": "code",
   "execution_count": 32,
   "metadata": {
    "collapsed": false
   },
   "outputs": [
    {
     "data": {
      "image/png": "[encoded data removed]",
      "text/plain": [
       "<matplotlib.figure.Figure at 0x25353a84a90>"
      ]
     },
     "metadata": {},
     "output_type": "display_data"
    }
   ],
   "source": [
    "# print a line model for the data\n",
    "\n",
    "\n",
    "print_dots()\n",
    "\n",
    "f1 = sp.poly1d(fp1)\n",
    "fx = sp.linspace(0, x[-1], 1000)\n",
    "plt.plot(fx, f1(fx), 'r--', linewidth=4)\n",
    "plt.autoscale(tight=True)\n",
    "plt.grid()\n",
    "plt.show()"
   ]
  },
  {
   "cell_type": "code",
   "execution_count": null,
   "metadata": {
    "collapsed": false
   },
   "outputs": [],
   "source": [
    "# print a line model for the data with greater degree (2)\n",
    "print_dots()\n",
    "\n",
    "fp2 = sp.polyfit(x, y, 2)\n",
    "f2 = sp.poly1d(fp2)\n",
    "fx = sp.linspace(0, x[-1], 1000)\n",
    "plt.plot(fx, f2(fx), 'r--', linewidth=4)\n",
    "plt.autoscale(tight=True)\n",
    "plt.grid()\n",
    "plt.show()"
   ]
  },
  {
   "cell_type": "code",
   "execution_count": null,
   "metadata": {
    "collapsed": false
   },
   "outputs": [],
   "source": [
    "# print a line model for the data with greater degree (2)\n",
    "def print_dots():\n",
    "    plt.scatter(x, y, s=10)\n",
    "    plt.xticks([w*7*24 for w in range(10)], ['week {}'.format(w) for w in range(10)])\n",
    "\n",
    "print_dots()\n",
    "\n",
    "fp3 = sp.polyfit(x, y, 6)\n",
    "f3 = sp.poly1d(fp3)\n",
    "fx = sp.linspace(0, x[-1], 1000)\n",
    "plt.plot(fx, f3(fx), 'r--', linewidth=4)\n",
    "plt.autoscale(tight=True)\n",
    "plt.grid()\n",
    "plt.show()"
   ]
  },
  {
   "cell_type": "markdown",
   "metadata": {},
   "source": [
    "#### Considering only the meaningful trend"
   ]
  },
  {
   "cell_type": "markdown",
   "metadata": {},
   "source": [
    "We consider only the inflection after week 3"
   ]
  },
  {
   "cell_type": "code",
   "execution_count": 51,
   "metadata": {
    "collapsed": false
   },
   "outputs": [
    {
     "data": {
      "image/png": "[encoded data removed]",
      "text/plain": [
       "<matplotlib.figure.Figure at 0x253576fe320>"
      ]
     },
     "metadata": {},
     "output_type": "display_data"
    }
   ],
   "source": [
    "inflection = 3 * 7 * 24\n",
    "xb = x[inflection:]\n",
    "yb = y[inflection:]\n",
    "\n",
    "fb = sp.poly1d(sp.polyfit(xb, yb, 2))\n",
    "\n",
    "# print a line model for the data with greater degree (2) \n",
    "# only the data after the inflection (week 3) \n",
    "\n",
    "print_dots()\n",
    "\n",
    "fx = sp.linspace(inflection, x[-1], 1000)\n",
    "plt.plot(fx, fb(fx), 'r--', linewidth=4)\n",
    "plt.autoscale(tight=True)\n",
    "plt.grid()\n",
    "plt.show()"
   ]
  },
  {
   "cell_type": "markdown",
   "metadata": {},
   "source": [
    "#### Predict future data"
   ]
  },
  {
   "cell_type": "markdown",
   "metadata": {},
   "source": [
    "After testing the error of each degree, we spot the function that model the best the given behavior. Using this model we can esteemate at which week the service will reach 100,000 requests per hour:"
   ]
  },
  {
   "cell_type": "code",
   "execution_count": null,
   "metadata": {
    "collapsed": false
   },
   "outputs": [],
   "source": [
    "print(fb)"
   ]
  },
  {
   "cell_type": "code",
   "execution_count": null,
   "metadata": {
    "collapsed": false
   },
   "outputs": [],
   "source": [
    "from scipy.optimize import fsolve\n",
    "reach_max = fsolve(fb - 100000, 800) / (7 * 24)\n",
    "print('100,000 requests expected at week {}'.format(reach_max[0]))"
   ]
  }
 ],
 "metadata": {
  "kernelspec": {
   "display_name": "Python 3",
   "language": "python",
   "name": "python3"
  },
  "language_info": {
   "codemirror_mode": {
    "name": "ipython",
    "version": 3
   },
   "file_extension": ".py",
   "mimetype": "text/x-python",
   "name": "python",
   "nbconvert_exporter": "python",
   "pygments_lexer": "ipython3",
   "version": "3.6.0"
  }
 },
 "nbformat": 4,
 "nbformat_minor": 2
}

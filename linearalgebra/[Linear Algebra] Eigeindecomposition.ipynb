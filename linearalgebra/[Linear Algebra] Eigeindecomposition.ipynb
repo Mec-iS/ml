{
 "cells": [
  {
   "cell_type": "markdown",
   "metadata": {},
   "source": [
    "## Eigenvalues"
   ]
  },
  {
   "cell_type": "markdown",
   "metadata": {},
   "source": [
    "Like we can decompose intergers into prime numnbers, we can also decompose matrices in ways that show us information about their functional properties that is not obvious from the representation of the matrix as an array of elements.\n"
   ]
  },
  {
   "cell_type": "markdown",
   "metadata": {},
   "source": [
    "One of the most widely used kinds of matrix decomposition is called _eigen-\n",
    "decomposition_, in which we decompose a matrix into a set of _eigenvectors_ and _eigenvalues_.\n",
    "An eigenvector of a square matrix $A$ is a non-zero vector $v$ such that multiplication by $A$ alters only the scale of $v$:\n",
    "\n",
    "$$A v = \\lambda v$$\n",
    "\n",
    "The scalar $\\lambda$ is known as the eigenvalue corresponding to this eigenvector.\n",
    "If $v$ is an eigenvector of $A$, then so is any rescaled vector $s v$ for $s \\in \\mathbb{R}, s  \\neq 0$.\n",
    "Moreover, $s v$ still has the same eigenvalue. For this reason, we usually only look for unit eigenvectors.\n",
    "\n",
    " "
   ]
  }
 ],
 "metadata": {
  "kernelspec": {
   "display_name": "Python 3",
   "language": "python",
   "name": "python3"
  },
  "language_info": {
   "codemirror_mode": {
    "name": "ipython",
    "version": 3
   },
   "file_extension": ".py",
   "mimetype": "text/x-python",
   "name": "python",
   "nbconvert_exporter": "python",
   "pygments_lexer": "ipython3",
   "version": "3.5.2"
  }
 },
 "nbformat": 4,
 "nbformat_minor": 2
}

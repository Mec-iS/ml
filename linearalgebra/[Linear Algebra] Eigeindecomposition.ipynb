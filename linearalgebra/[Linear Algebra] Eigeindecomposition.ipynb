{
 "cells": [
  {
   "cell_type": "markdown",
   "metadata": {
    "deletable": true,
    "editable": true
   },
   "source": [
    "## Eigenvalues"
   ]
  },
  {
   "cell_type": "markdown",
   "metadata": {
    "deletable": true,
    "editable": true
   },
   "source": [
    "Like we can decompose intergers into prime numnbers, we can also decompose matrices in ways that show us information about their functional properties that is not obvious from the representation of the matrix as an array of elements.\n"
   ]
  },
  {
   "cell_type": "markdown",
   "metadata": {
    "deletable": true,
    "editable": true
   },
   "source": [
    "One of the most widely used kinds of matrix decomposition is called _eigen-\n",
    "decomposition_, in which we decompose a matrix into a set of _eigenvectors_ and _eigenvalues_.\n",
    "An eigenvector of a square matrix $A$ is a non-zero vector $v$ such that multiplication by $A$ alters only the scale of $v$:\n",
    "\n",
    "$$A v = \\lambda v$$\n",
    "\n",
    "The scalar $\\lambda$ is known as the eigenvalue corresponding to this eigenvector.\n",
    "If $v$ is an eigenvector of $A$, then so is any rescaled vector $s v$ for $s \\in \\mathbb{R}, s  \\neq 0$.\n",
    "Moreover, $s v$ still has the same eigenvalue. For this reason, we usually only look for unit eigenvectors.\n",
    "\n",
    " "
   ]
  },
  {
   "cell_type": "markdown",
   "metadata": {},
   "source": [
    "## Decomposing a matrix"
   ]
  },
  {
   "cell_type": "markdown",
   "metadata": {},
   "source": [
    "Suppose that a matrix $A$ has $n$ linearly independent eigenvectors, ${v_1 , . . . , v_n}$, with corresponding eigenvalues ${\\lambda_1 , . . . , \\lambda_n }$. We may concatenate all of the eigenvectors to form a **matrix of the eigenvector** $V$.\n",
    "Likewise, we can concatenate the **eigenvalues** to form a **vector** $\\lambda = [\\lambda_1 , . . . , \\lambda_n ]^T$. The _eigendecomposition_ of $A$ is then given by:\n",
    "$$\n",
    "A = V diag(\\lambda) V^{-1}\n",
    "$$\n"
   ]
  },
  {
   "cell_type": "markdown",
   "metadata": {},
   "source": [
    "For the sake of machine-learning applications, we need to use specifically, real symmetric matrixes. This kind of matrixes can be decomposed into an expression using only real-valued eigenvectors and eigenvalues:\n",
    "$$\n",
    "A = Q \\Lambda Q^T\n",
    "$$\n",
    "\n",
    "where $Q$ is an orthogonal matrix composed of eigenvectors of $A$, and $\\Lambda$ is diagonal matrix. The eigenvalue $\\Lambda_{i,i}$ is associated with the eigenvector in column $i$ of $Q$, denoted as $Q_{:,i}$. Because $Q$ is an orthogonal matrix, we can think of $A$ as scaling space by $\\lambda_i$ in direction $v^{(i)}$.\n",
    " "
   ]
  },
  {
   "cell_type": "markdown",
   "metadata": {},
   "source": [
    "## What decomposition can spot"
   ]
  },
  {
   "cell_type": "markdown",
   "metadata": {},
   "source": [
    "The eigendecomposition of a matrix tells us many useful facts about the\n",
    "matrix. The matrix is singular if and only if any of the eigenvalues are zero.\n",
    "The eigendecomposition of a real symmetric matrix can also be used to optimize quadratic expressions of the form $f(x) = x^T Ax$ subject to $||x||_2 = 1$. Whenever $x$ is equal to an eigenvector of $A$, $f$ takes on the value of the corresponding eigenvalue.\n",
    "The maximum value of $f$ within the constraint region is the maximum eigenvalue and its minimum value within the constraint region is the minimum eigenvalue.\n",
    "A matrix whose eigenvalues are all positive is called positive definite. A matrix whose eigenvalues are all positive or zero-valued is called positive semidefinite.\n",
    "Likewise, if all eigenvalues are negative, the matrix is negative definite, and all eigenvalues are negative or zero-valued, it is negative semidefinite. Positive semidefinite matrices are interesting because they guarantee that $\\forall x, x^T Ax ≥ 0$. Positive definite matrices additionally guarantee that $x^T Ax = 0 \\rightarrow x = 0$.\n"
   ]
  }
 ],
 "metadata": {
  "kernelspec": {
   "display_name": "Python 3",
   "language": "python",
   "name": "python3"
  },
  "language_info": {
   "codemirror_mode": {
    "name": "ipython",
    "version": 3
   },
   "file_extension": ".py",
   "mimetype": "text/x-python",
   "name": "python",
   "nbconvert_exporter": "python",
   "pygments_lexer": "ipython3",
   "version": "3.5.2"
  }
 },
 "nbformat": 4,
 "nbformat_minor": 2
}

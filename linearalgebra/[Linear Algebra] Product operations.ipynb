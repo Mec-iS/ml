{
 "cells": [
  {
   "cell_type": "markdown",
   "metadata": {
    "deletable": true,
    "editable": true
   },
   "source": [
    "# Multiplying Operations"
   ]
  },
  {
   "cell_type": "markdown",
   "metadata": {
    "deletable": true,
    "editable": true
   },
   "source": [
    "**Three basic multiplying operations in linear algebra:**\n",
    "1. matrix product: `np.matmul()`\n",
    "2. element-wise (Hadamard) product: $\\odot$ `np.multiply()`\n",
    "3. dot product $\\cdot$ `np.dot()`\n",
    "4. transpose $(A^T)_{i,j} = A_{j,i}$\n"
   ]
  },
  {
   "cell_type": "markdown",
   "metadata": {
    "deletable": true,
    "editable": true
   },
   "source": [
    "## 1. Matrix product"
   ]
  },
  {
   "cell_type": "markdown",
   "metadata": {
    "deletable": true,
    "editable": true
   },
   "source": [
    "Also called **standard product**:\n",
    "$$C = AB$$"
   ]
  },
  {
   "cell_type": "markdown",
   "metadata": {
    "deletable": true,
    "editable": true
   },
   "source": [
    "$$C_{i,j} = \\sum_k A_{i,k}B_{k,j}$$"
   ]
  },
  {
   "cell_type": "markdown",
   "metadata": {
    "deletable": true,
    "editable": true
   },
   "source": [
    "Properties:\n",
    "* distributive\n",
    "* not commutative\n",
    "* associative\n",
    "* $(A B)^T = B^T A^T$"
   ]
  },
  {
   "cell_type": "markdown",
   "metadata": {
    "deletable": true,
    "editable": true
   },
   "source": [
    "## 2. Element-wise matrix product"
   ]
  },
  {
   "cell_type": "markdown",
   "metadata": {
    "deletable": true,
    "editable": true
   },
   "source": [
    "It's the product of the individual elements from each input matrices:\n",
    "$$C = A \\odot B$$"
   ]
  },
  {
   "cell_type": "markdown",
   "metadata": {
    "deletable": true,
    "editable": true
   },
   "source": [
    "## 3. Dot product for vectors"
   ]
  },
  {
   "cell_type": "markdown",
   "metadata": {
    "deletable": true,
    "editable": true
   },
   "source": [
    "$$a \\cdot b = \\sum_i^n a_i b_i$$"
   ]
  },
  {
   "cell_type": "markdown",
   "metadata": {
    "deletable": true,
    "editable": true
   },
   "source": [
    "Geometrical definition: $$a \\cdot b = \\| \\mathbf{a} \\| \\| \\mathbf{b} \\| \\cos(\\theta)$$"
   ]
  },
  {
   "cell_type": "markdown",
   "metadata": {
    "deletable": true,
    "editable": true
   },
   "source": [
    "In terms of matrix product: $$a \\cdot b = a^T b$$"
   ]
  },
  {
   "cell_type": "markdown",
   "metadata": {
    "deletable": true,
    "editable": true
   },
   "source": [
    "Properties:\n",
    "* commutative\n",
    "* distributive over addition: $a \\cdot (b + c) = a \\cdot b + a \\cdot c$\n",
    "* not associative\n",
    "* orthogonal: if $a \\cdot b = 0$ vectors are orthogonal\n",
    "* perpendicular: if $a \\cdot (b − c) = 0$ then $a$ is perpendicular to $b$"
   ]
  },
  {
   "cell_type": "markdown",
   "metadata": {
    "collapsed": true,
    "deletable": true,
    "editable": true
   },
   "source": [
    "---\n",
    "Sources:\n",
    "* Wikipedia\n",
    "* Deep Learning - Ian Goodfellow, Yoshua Bengio, Aaron Courville\n"
   ]
  }
 ],
 "metadata": {
  "kernelspec": {
   "display_name": "Python 3",
   "language": "python",
   "name": "python3"
  },
  "language_info": {
   "codemirror_mode": {
    "name": "ipython",
    "version": 3
   },
   "file_extension": ".py",
   "mimetype": "text/x-python",
   "name": "python",
   "nbconvert_exporter": "python",
   "pygments_lexer": "ipython3",
   "version": "3.5.2"
  }
 },
 "nbformat": 4,
 "nbformat_minor": 2
}

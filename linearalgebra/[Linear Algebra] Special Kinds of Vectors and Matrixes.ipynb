{
 "cells": [
  {
   "cell_type": "markdown",
   "metadata": {},
   "source": [
    "## Identity matrix"
   ]
  },
  {
   "cell_type": "markdown",
   "metadata": {},
   "source": [
    "An identity matrix is a matrix that does not change any vector when we\n",
    "multiply that vector by that matrix: $$ A I_n = A $$ \n",
    "\n",
    "Example: \n",
    "$$\n",
    "\\begin{bmatrix} \n",
    "   1 & 0 & 0 & 0 \\\\\n",
    "   0 & 1 & 0 & 0 \\\\\n",
    "   0 & 0 & 1 & 0 \\\\\n",
    "   0 & 0 & 0 & 1\n",
    "\\end{bmatrix}\n",
    "$$"
   ]
  },
  {
   "cell_type": "markdown",
   "metadata": {},
   "source": [
    "## Inverse matrix"
   ]
  },
  {
   "cell_type": "markdown",
   "metadata": {},
   "source": [
    "$$ A^{−1} A = I_n $$"
   ]
  },
  {
   "cell_type": "markdown",
   "metadata": {},
   "source": [
    "## Diagonal matrix"
   ]
  },
  {
   "cell_type": "markdown",
   "metadata": {},
   "source": [
    "Diagonal matrices consist mostly of zeros and have non-zero entries only along the main diagonal (like $I$ above).\n",
    "\n",
    "We write $diag(v)$ to denote a square diagonal matrix whose diagonal entries are given by the entries of the vector $v$.\n",
    "\n",
    "To compute $diag(v)x$, we only need to scale each element $x_i$ by $v_i$. In other words: $diag(v)x = v \\odot x$. \n"
   ]
  },
  {
   "cell_type": "markdown",
   "metadata": {},
   "source": [
    "## Symmetric matrix"
   ]
  },
  {
   "cell_type": "markdown",
   "metadata": {},
   "source": [
    "A symmetric matrix is any matrix that is equal to its own transpose:\n",
    "$$A = A^T$$\n"
   ]
  },
  {
   "cell_type": "markdown",
   "metadata": {},
   "source": [
    "## Orthogonal matrix"
   ]
  },
  {
   "cell_type": "markdown",
   "metadata": {},
   "source": [
    "An orthogonal matrix is a square matrix whose rows are mutually orthonormal (vectors that are _othogonal_ and have the _unit norm_ as norm) and whose columns are mutually orthonormal:$$ A^T A = AA^T = I$$\n",
    "\n",
    "This implies that:\n",
    "$$A^{−1} = A^T $$\n",
    "\n",
    "All the rows in an orthogonal matrix are fully orthonormal."
   ]
  },
  {
   "cell_type": "markdown",
   "metadata": {},
   "source": [
    "---\n",
    "Sources:\n",
    "* Wikipedia\n",
    "* Deep Learning - Ian Goodfellow, Yoshua Bengio, Aaron Courville"
   ]
  }
 ],
 "metadata": {
  "kernelspec": {
   "display_name": "Python 3",
   "language": "python",
   "name": "python3"
  },
  "language_info": {
   "codemirror_mode": {
    "name": "ipython",
    "version": 3
   },
   "file_extension": ".py",
   "mimetype": "text/x-python",
   "name": "python",
   "nbconvert_exporter": "python",
   "pygments_lexer": "ipython3",
   "version": "3.5.2"
  }
 },
 "nbformat": 4,
 "nbformat_minor": 2
}

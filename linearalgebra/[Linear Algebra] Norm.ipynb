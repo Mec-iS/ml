{
 "cells": [
  {
   "cell_type": "markdown",
   "metadata": {},
   "source": [
    "# Norm of a vector"
   ]
  },
  {
   "cell_type": "markdown",
   "metadata": {},
   "source": [
    "Norm for a generic sized array: $$L^p = (\\sum_i {\\| x_i \\|^p})^{\\frac{1}{p}}$$"
   ]
  },
  {
   "cell_type": "markdown",
   "metadata": {},
   "source": [
    "**Magnitude** or **length** of a **vector** ($L^2$) is most commonly defined as its Euclidean norm (or Euclidean length):\n",
    "$$\\| \\mathbf{a} \\| = \\sqrt{x_1^2, x_2^2, ..., x_n^2} $$"
   ]
  },
  {
   "cell_type": "markdown",
   "metadata": {},
   "source": [
    "Or simplier: $$\\| \\mathbf{a} \\| = a^T a $$"
   ]
  },
  {
   "cell_type": "markdown",
   "metadata": {},
   "source": [
    "In several machine learning applications, it is important to discriminate between elements that are exactly zero and elements that are small but nonzero. In these cases, we turn to a function that grows at the same rate in all locations, but retains mathematical simplicity, the $L^1$ norm:\n",
    "$$\n",
    "\\| \\mathbf{a} \\|_1 = \\sum_i \\| x_i \\|\n",
    "$$\n",
    "\n",
    "The $L^1$ norm is commonly used in machine learning when the difference between zero and nonzero elements is very important. Every time an element of $x$ moves away from 0 by $\\epsilon$, the $L^1$ norm increases by $\\epsilon$.\n",
    "\n",
    "We sometimes measure the size of the vector by counting its number of nonzero elements. Some authors refer to this function as the \"$L^0$ norm”, but this is incorrect\n",
    "terminology. \n",
    "\n"
   ]
  },
  {
   "cell_type": "markdown",
   "metadata": {},
   "source": [
    "Sometimes we may also wish to measure the size of a matrix. In the context\n",
    "of deep learning, the most common way to do this is with the otherwise obscure Frobenius norm:\n",
    "$$\n",
    "\\| \\mathbf{A} \\|_F = \\sqrt{\\sum_{i,j} A_{i,j}^2}\n",
    "$$\n",
    "\n",
    "which is analogous to the $L^2$ norm of a vector.\n",
    "The dot product of two vectors can be rewritten in terms of norms. Specifically,\n",
    "$$a^T b = \\| \\mathbf{a} \\|_2 \\| \\mathbf{b} \\|_2 \\cos(\\theta)$$\n",
    "where $\\theta$ is the angle between $x$ and $y$.\n"
   ]
  },
  {
   "cell_type": "markdown",
   "metadata": {},
   "source": [
    "---\n",
    "Sources:\n",
    "* Wikipedia\n",
    "* Deep Learning - Ian Goodfellow, Yoshua Bengio, Aaron Courville"
   ]
  }
 ],
 "metadata": {
  "kernelspec": {
   "display_name": "Python 3",
   "language": "python",
   "name": "python3"
  },
  "language_info": {
   "codemirror_mode": {
    "name": "ipython",
    "version": 3
   },
   "file_extension": ".py",
   "mimetype": "text/x-python",
   "name": "python",
   "nbconvert_exporter": "python",
   "pygments_lexer": "ipython3",
   "version": "3.5.2"
  }
 },
 "nbformat": 4,
 "nbformat_minor": 2
}

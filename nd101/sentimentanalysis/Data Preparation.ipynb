{
 "cells": [
  {
   "cell_type": "markdown",
   "metadata": {},
   "source": [
    "In Deep Learning, design the architecture is features engineering."
   ]
  },
  {
   "cell_type": "markdown",
   "metadata": {},
   "source": [
    "* Cleaning\n",
    "* Transformation\n",
    "* Reduction\n",
    "* Normalization"
   ]
  },
  {
   "cell_type": "markdown",
   "metadata": {},
   "source": [
    "## Cleaning"
   ]
  },
  {
   "cell_type": "markdown",
   "metadata": {},
   "source": [
    "* Make relevant columns into binary values (dummy variables)\n",
    "* Remove missing data (substitute with zeros or mean): `data.fillna(data.mean(axis=1))` (using `pandas`)\n"
   ]
  },
  {
   "cell_type": "markdown",
   "metadata": {},
   "source": [
    "## Transformation"
   ]
  },
  {
   "cell_type": "markdown",
   "metadata": {},
   "source": [
    "* Merge similar column: i.e. tags with similar content or that are in the same value most of the time can be merged into one and the rest dropped. \n",
    "* Normalization/Scaling"
   ]
  },
  {
   "cell_type": "markdown",
   "metadata": {},
   "source": [
    "##### Min Max Scaling"
   ]
  },
  {
   "cell_type": "markdown",
   "metadata": {},
   "source": [
    "$$\n",
    "z = \\frac{x - min(x)}{max(x) - min(x)}\n",
    "$$"
   ]
  },
  {
   "cell_type": "markdown",
   "metadata": {},
   "source": [
    "##### Standardization"
   ]
  },
  {
   "cell_type": "markdown",
   "metadata": {},
   "source": [
    "$$\n",
    "z = \\frac{x - \\mu}{\\sigma}\n",
    "$$\n",
    "\n",
    "```\n",
    "quant_features = ['casual', 'registered', 'cnt', 'temp', 'hum', 'windspeed']\n",
    "scaled_features = {}\n",
    "for each in quant_features:\n",
    "    mean, std = data[each].mean(), data[each].std()\n",
    "    scaled_features[each] = [mean, std]\n",
    "    data.loc[:, each] = (data[each] - mean)/std\n",
    "```"
   ]
  },
  {
   "cell_type": "markdown",
   "metadata": {},
   "source": [
    "#### Preprocessing tools"
   ]
  },
  {
   "cell_type": "markdown",
   "metadata": {},
   "source": [
    "```\n",
    "from sklearn.preprocessing import StandardScaler\n",
    "scaled = StandardScaler().fit_transform(data)\n",
    "```"
   ]
  },
  {
   "cell_type": "markdown",
   "metadata": {},
   "source": [
    "## Reduction\n",
    "\n",
    "##### Dimensionality reduction"
   ]
  },
  {
   "cell_type": "markdown",
   "metadata": {},
   "source": [
    "**PCA => Principal Component Analysis**\n",
    "1. Normalize\n",
    "2. Correlation matrix (co-variance matrix): for each \n",
    "$$ \\sum = \\frac{1}{m} ((X - \\vec{x})^T (X - \\vec{x}))  $$\n",
    "```\n",
    "mean_vec = np.mean(X_std, axis=1)\n",
    "cov_mat = (X_std - mean_vec).T.dot((X_std - mean_vec) / (X_std[0]-1))\n",
    "```\n",
    "3. Pull eigenvectors and eigenvalues out of the correlation matrix\n",
    "```\n",
    "cov_mat = np.cov(X_std.T)\n",
    "eig_vals, eig_vecs = np.linalg.eig(cov_mat)\n",
    "```\n",
    "4. Sort eigenvalues\n",
    "```\n",
    "eig_pairs = [(np.abs(eig_vaals[i]), eig_vecs[:, i]) for i in range(len(eig_vals))]\n",
    "eig_pairs.sort()\n",
    "```\n",
    "5. Make a projection matrix\n",
    "```\n",
    "matrix_w = np.hstack(\n",
    "    (eig_paris[0][1].reshape(4, 1)),\n",
    "    (eig_paris[1][1].reshape(4, 1))\n",
    ")\n",
    "```\n",
    "6. Squash it into a 3D space\n",
    "```\n",
    "Y = X_std.dot(matrix_w)\n",
    "```"
   ]
  },
  {
   "cell_type": "markdown",
   "metadata": {},
   "source": [
    "---\n",
    "source: https://www.youtube.com/watch?v=koiTTim4M-s"
   ]
  }
 ],
 "metadata": {
  "kernelspec": {
   "display_name": "Python 3",
   "language": "python",
   "name": "python3"
  },
  "language_info": {
   "codemirror_mode": {
    "name": "ipython",
    "version": 3
   },
   "file_extension": ".py",
   "mimetype": "text/x-python",
   "name": "python",
   "nbconvert_exporter": "python",
   "pygments_lexer": "ipython3",
   "version": "3.5.2"
  }
 },
 "nbformat": 4,
 "nbformat_minor": 2
}

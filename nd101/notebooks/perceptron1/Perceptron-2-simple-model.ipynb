{
 "cells": [
  {
   "cell_type": "markdown",
   "metadata": {},
   "source": [
    "## A simple neural network"
   ]
  },
  {
   "cell_type": "markdown",
   "metadata": {},
   "source": [
    "##### Calculate the output of a simple network with two inputs and one output"
   ]
  },
  {
   "cell_type": "markdown",
   "metadata": {},
   "source": [
    "* the network is made of more than one layer\n",
    "* nodes use the sigmoid function as activation function"
   ]
  },
  {
   "cell_type": "markdown",
   "metadata": {},
   "source": [
    "$$\n",
    "sigmoid(x) = 1 / (1 + \\exp^{-x})\n",
    "$$"
   ]
  },
  {
   "cell_type": "markdown",
   "metadata": {},
   "source": [
    "The output in this case is:\n",
    "$$\n",
    "y = f(h) = sigmoid(\\sum_i w_i * x_i + b)\n",
    "$$\n",
    "\n",
    "or more simply: the ot product of the inputs and the weights, plus the bias"
   ]
  },
  {
   "cell_type": "code",
   "execution_count": 7,
   "metadata": {
    "collapsed": false
   },
   "outputs": [
    {
     "data": {
      "text/plain": [
       "0.43290709503454572"
      ]
     },
     "execution_count": 7,
     "metadata": {},
     "output_type": "execute_result"
    }
   ],
   "source": [
    "import numpy as np\n",
    "\n",
    "def sigmoid(x):\n",
    "    return 1 / (1 + np.exp(-x))\n",
    "\n",
    "inputs = np.array([0.7, -0.3])    # x\n",
    "weights = np.array([0.1, 0.8])    # w\n",
    "bias = -0.1                       # b\n",
    "\n",
    "output = sigmoid(np.dot(weights, inputs) + bias)\n",
    "\n",
    "output"
   ]
  },
  {
   "cell_type": "markdown",
   "metadata": {},
   "source": [
    "```\n",
    "\n",
    "            +----------------+\n",
    "            |                |\n",
    "            |      x, w      |\n",
    "            |   (0.7, 0.1)   |\n",
    "            |                |\n",
    "            |                |\n",
    "            +----------------+\n",
    "                     |                       +----------------+\n",
    "                     +----------------------->                |\n",
    "                                             |    sigmoid     |\n",
    "                                             |      plus      +-------> 0.4329\n",
    "                     +----------------------->     bias       |\n",
    "                     |                       |                |\n",
    "                     |                       +----------------+\n",
    "               +----------------+\n",
    "               |                |\n",
    "               |                |\n",
    "               |  (-0.3, 0.8)   |\n",
    "               |                |\n",
    "               |                |\n",
    "               +----------------+\n",
    "\n",
    "```\n",
    "\n"
   ]
  },
  {
   "cell_type": "code",
   "execution_count": null,
   "metadata": {
    "collapsed": true
   },
   "outputs": [],
   "source": []
  }
 ],
 "metadata": {
  "kernelspec": {
   "display_name": "Python 3",
   "language": "python",
   "name": "python3"
  },
  "language_info": {
   "codemirror_mode": {
    "name": "ipython",
    "version": 3
   },
   "file_extension": ".py",
   "mimetype": "text/x-python",
   "name": "python",
   "nbconvert_exporter": "python",
   "pygments_lexer": "ipython3",
   "version": "3.5.2"
  }
 },
 "nbformat": 4,
 "nbformat_minor": 2
}

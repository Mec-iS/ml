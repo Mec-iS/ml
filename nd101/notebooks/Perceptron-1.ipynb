{
 "cells": [
  {
   "cell_type": "markdown",
   "metadata": {},
   "source": [
    "**Perceptrons** are simulated neurons that are described by a **linear combination** function for weights (w) and values (x) like:\n",
    "$$\n",
    "w_{A} * x_{A} + w_{B} * x_{B} = \\sum_{i=1}^m w_{i} * x_{i}\n",
    "$$\n"
   ]
  },
  {
   "cell_type": "markdown",
   "metadata": {},
   "source": [
    "and are activated (they send signals to perceptrons) based on an **activation fuction** like the [Heaviside step function](https://en.wikipedia.org/wiki/Heaviside_step_function):\n",
    "$$\n",
    "f(h) = \\begin{cases}\n",
    "    0,& \\text{if } h<0\\\\        \n",
    "    1,& \\text{otherwise}\n",
    "\\end{cases}\n",
    "$$"
   ]
  },
  {
   "cell_type": "markdown",
   "metadata": {},
   "source": [
    "If we have a bias (c), we have a complete perceptron formula:\n",
    "$$\n",
    "f(x_1, x_2, ..., x_m) = \\begin{cases}\n",
    "    0,& \\text{if } c + \\sum w_i * x_i < 0\\\\        \n",
    "    1,& \\text{otherwise}\n",
    "\\end{cases}\n",
    "$$"
   ]
  },
  {
   "cell_type": "code",
   "execution_count": 22,
   "metadata": {
    "collapsed": false
   },
   "outputs": [
    {
     "name": "stdout",
     "output_type": "stream",
     "text": [
      "-5\n",
      "-5.0\n",
      "-2.5\n",
      "-5.0\n",
      "-5.0\n"
     ]
    }
   ],
   "source": [
    "import pandas as pd\n",
    "\n",
    "# TODO: Set weight1, weight2, and bias\n",
    "weight1 = -2.5\n",
    "weight2 = 2.5\n",
    "bias = -5\n",
    "\n",
    "ws = [weight1, weight2]\n",
    "\n",
    "# Inputs and outputs\n",
    "test_inputs = [(0, 0), (0, 1), (1, 0), (1, 1)]\n",
    "correct_outputs = [False, False, False, True]\n",
    "outputs = []\n",
    "\n",
    "s = bias\n",
    "for t in test_inputs:\n",
    "    s += (ws[0] * t[0]) + (ws[1] * t[1])\n",
    "\n",
    "\n",
    "#s = bias + sum((ws[0] * t[0]) + (ws[1] * t[1]) for t in test_input)\n",
    "print(s)"
   ]
  },
  {
   "cell_type": "code",
   "execution_count": 21,
   "metadata": {
    "collapsed": false
   },
   "outputs": [
    {
     "name": "stdout",
     "output_type": "stream",
     "text": [
      "You got 1 wrong.  Keep trying!\n",
      "\n",
      "Input 1    Input 2    Linear Combination    Activation Output   Is Correct\n",
      "      0          0                  -5.0                    0          Yes\n",
      "      0          1                  -2.5                    0          Yes\n",
      "      1          0                  -7.5                    0          Yes\n",
      "      1          1                  -5.0                    0           No\n"
     ]
    }
   ],
   "source": [
    "\n",
    "\n",
    "# Generate and check output\n",
    "for test_input, correct_output in zip(test_inputs, correct_outputs):\n",
    "    linear_combination = weight1 * test_input[0] + weight2 * test_input[1] + bias\n",
    "    output = int(linear_combination >= 0)\n",
    "    is_correct_string = 'Yes' if output == correct_output else 'No'\n",
    "    outputs.append([test_input[0], test_input[1], linear_combination, output, is_correct_string])\n",
    "\n",
    "# Print output\n",
    "num_wrong = len([output[4] for output in outputs if output[4] == 'No'])\n",
    "output_frame = pd.DataFrame(outputs, columns=['Input 1', '  Input 2', '  Linear Combination', '  Activation Output', '  Is Correct'])\n",
    "if not num_wrong:\n",
    "    print('Nice!  You got it all correct.\\n')\n",
    "else:\n",
    "    print('You got {} wrong.  Keep trying!\\n'.format(num_wrong))\n",
    "print(output_frame.to_string(index=False))"
   ]
  },
  {
   "cell_type": "code",
   "execution_count": null,
   "metadata": {
    "collapsed": true
   },
   "outputs": [],
   "source": []
  }
 ],
 "metadata": {
  "kernelspec": {
   "display_name": "Python 3",
   "language": "python",
   "name": "python3"
  },
  "language_info": {
   "codemirror_mode": {
    "name": "ipython",
    "version": 3
   },
   "file_extension": ".py",
   "mimetype": "text/x-python",
   "name": "python",
   "nbconvert_exporter": "python",
   "pygments_lexer": "ipython3",
   "version": "3.5.2"
  }
 },
 "nbformat": 4,
 "nbformat_minor": 2
}

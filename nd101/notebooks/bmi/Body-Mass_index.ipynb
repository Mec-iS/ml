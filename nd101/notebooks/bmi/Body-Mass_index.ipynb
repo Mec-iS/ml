{
 "cells": [
  {
   "cell_type": "code",
   "execution_count": 10,
   "metadata": {
    "collapsed": false
   },
   "outputs": [
    {
     "data": {
      "text/html": [
       "<div>\n",
       "<table border=\"1\" class=\"dataframe\">\n",
       "  <thead>\n",
       "    <tr style=\"text-align: right;\">\n",
       "      <th></th>\n",
       "      <th>Country</th>\n",
       "      <th>Life expectancy</th>\n",
       "      <th>BMI</th>\n",
       "    </tr>\n",
       "  </thead>\n",
       "  <tbody>\n",
       "    <tr>\n",
       "      <th>25</th>\n",
       "      <td>Cameroon</td>\n",
       "      <td>56.6</td>\n",
       "      <td>23.68173</td>\n",
       "    </tr>\n",
       "    <tr>\n",
       "      <th>26</th>\n",
       "      <td>Canada</td>\n",
       "      <td>80.8</td>\n",
       "      <td>27.45210</td>\n",
       "    </tr>\n",
       "    <tr>\n",
       "      <th>27</th>\n",
       "      <td>Cape Verde</td>\n",
       "      <td>70.4</td>\n",
       "      <td>23.51522</td>\n",
       "    </tr>\n",
       "    <tr>\n",
       "      <th>28</th>\n",
       "      <td>Chad</td>\n",
       "      <td>54.3</td>\n",
       "      <td>21.48569</td>\n",
       "    </tr>\n",
       "    <tr>\n",
       "      <th>29</th>\n",
       "      <td>Chile</td>\n",
       "      <td>78.5</td>\n",
       "      <td>27.01542</td>\n",
       "    </tr>\n",
       "    <tr>\n",
       "      <th>30</th>\n",
       "      <td>China</td>\n",
       "      <td>73.4</td>\n",
       "      <td>22.92176</td>\n",
       "    </tr>\n",
       "    <tr>\n",
       "      <th>31</th>\n",
       "      <td>Colombia</td>\n",
       "      <td>76.2</td>\n",
       "      <td>24.94041</td>\n",
       "    </tr>\n",
       "    <tr>\n",
       "      <th>32</th>\n",
       "      <td>Comoros</td>\n",
       "      <td>67.1</td>\n",
       "      <td>22.06131</td>\n",
       "    </tr>\n",
       "    <tr>\n",
       "      <th>33</th>\n",
       "      <td>Congo, Dem. Rep.</td>\n",
       "      <td>57.5</td>\n",
       "      <td>19.86692</td>\n",
       "    </tr>\n",
       "    <tr>\n",
       "      <th>34</th>\n",
       "      <td>Congo, Rep.</td>\n",
       "      <td>58.8</td>\n",
       "      <td>21.87134</td>\n",
       "    </tr>\n",
       "  </tbody>\n",
       "</table>\n",
       "</div>"
      ],
      "text/plain": [
       "             Country  Life expectancy       BMI\n",
       "25          Cameroon             56.6  23.68173\n",
       "26            Canada             80.8  27.45210\n",
       "27        Cape Verde             70.4  23.51522\n",
       "28              Chad             54.3  21.48569\n",
       "29             Chile             78.5  27.01542\n",
       "30             China             73.4  22.92176\n",
       "31          Colombia             76.2  24.94041\n",
       "32           Comoros             67.1  22.06131\n",
       "33  Congo, Dem. Rep.             57.5  19.86692\n",
       "34       Congo, Rep.             58.8  21.87134"
      ]
     },
     "execution_count": 10,
     "metadata": {},
     "output_type": "execute_result"
    }
   ],
   "source": [
    "import pandas as pd\n",
    "import numpy as np\n",
    "from sklearn import linear_model\n",
    "import matplotlib.pyplot as plt\n",
    "\n",
    "data = pd.read_csv('bmi_and_life_expectancy.csv')\n",
    "data[25:35]"
   ]
  },
  {
   "cell_type": "code",
   "execution_count": 12,
   "metadata": {
    "collapsed": false
   },
   "outputs": [
    {
     "data": {
      "text/plain": [
       "LinearRegression(copy_X=True, fit_intercept=True, n_jobs=1, normalize=False)"
      ]
     },
     "execution_count": 12,
     "metadata": {},
     "output_type": "execute_result"
    }
   ],
   "source": [
    "x_independent, y_dependent = data[['BMI']], data[['Life expectancy']]\n",
    "#x_independent[:10], y_dependent[:10]\n",
    "bmi_life_model = linear_model.LinearRegression()\n",
    "bmi_life_model.fit(x_independent, y_dependent)"
   ]
  },
  {
   "cell_type": "code",
   "execution_count": 27,
   "metadata": {
    "collapsed": false
   },
   "outputs": [
    {
     "data": {
      "image/png": "[encoded data removed]",
      "text/plain": [
       "<matplotlib.figure.Figure at 0x1e1770b6ef0>"
      ]
     },
     "metadata": {},
     "output_type": "display_data"
    },
    {
     "name": "stdout",
     "output_type": "stream",
     "text": [
      "Life expectancy for a BMI of 21 [[ 60.11590656]]\n"
     ]
    }
   ],
   "source": [
    "plt.scatter(x_independent, y_dependent)\n",
    "plt.plot(x_independent, bmi_life_model.predict(x_independent))\n",
    "plt.show()\n",
    "\n",
    "equal =np.array([21]).reshape(-1, 1)\n",
    "\n",
    "print('Life expectancy for a BMI of 21', bmi_life_model.predict(equal))"
   ]
  }
 ],
 "metadata": {
  "kernelspec": {
   "display_name": "Python 3",
   "language": "python",
   "name": "python3"
  },
  "language_info": {
   "codemirror_mode": {
    "name": "ipython",
    "version": 3
   },
   "file_extension": ".py",
   "mimetype": "text/x-python",
   "name": "python",
   "nbconvert_exporter": "python",
   "pygments_lexer": "ipython3",
   "version": "3.5.2"
  }
 },
 "nbformat": 4,
 "nbformat_minor": 2
}

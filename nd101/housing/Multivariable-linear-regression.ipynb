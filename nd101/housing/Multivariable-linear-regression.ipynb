{
 "cells": [
  {
   "cell_type": "code",
   "execution_count": 26,
   "metadata": {
    "collapsed": false
   },
   "outputs": [],
   "source": [
    "\"\"\"\n",
    "Boston housing data\n",
    "https://archive.ics.uci.edu/ml/datasets/Housing\n",
    "\"\"\"\n",
    "import pandas as pd\n",
    "import numpy as np\n",
    "from sklearn.linear_model import LinearRegression\n",
    "import matplotlib.pyplot as plt"
   ]
  },
  {
   "cell_type": "code",
   "execution_count": 123,
   "metadata": {
    "collapsed": false
   },
   "outputs": [
    {
     "data": {
      "text/plain": [
       "((506, 13), (506, 1))"
      ]
     },
     "execution_count": 123,
     "metadata": {},
     "output_type": "execute_result"
    }
   ],
   "source": [
    "data = pd.read_fwf('boston-housing.txt')\n",
    "\n",
    "# 14 columns. The first 13 are quality indexes, tha last one is the median of the \n",
    "# value (that is the target value for the linear system)\n",
    "multi_independent = data\n",
    "\n",
    "#\n",
    "# collect the data and the target\n",
    "#\n",
    "# When you build a model, X for fit() method should have the shape of [n_samples,n_features].\n",
    "# y should have the shape (n_samples, ) - namely should be a np.array().\n",
    "# The same applies to the .predict method.\n",
    "quality = multi_independent.iloc[:, 0:13]\n",
    "target = np.array(multi_independent[['MEDV']])\n",
    "\n",
    "quality.shape, target.shape"
   ]
  },
  {
   "cell_type": "code",
   "execution_count": 124,
   "metadata": {
    "collapsed": false
   },
   "outputs": [
    {
     "data": {
      "text/plain": [
       "array([[ 23.63354653]])"
      ]
     },
     "execution_count": 124,
     "metadata": {},
     "output_type": "execute_result"
    }
   ],
   "source": [
    "model = LinearRegression()\n",
    "model.fit(\n",
    "    quality, \n",
    "    target\n",
    ")\n",
    "\n",
    "\n",
    "# Make a prediction using the model\n",
    "sample_house = [[2.29690000e-01, 0.00000000e+00, 1.05900000e+01, 0.00000000e+00, 4.89000000e-01,\n",
    "                6.32600000e+00, 5.25000000e+01, 4.35490000e+00, 4.00000000e+00, 2.77000000e+02,\n",
    "                1.86000000e+01, 3.94870000e+02, 1.09700000e+01]]\n",
    "# TODO: Predict housing price for the sample_house\n",
    "prediction = model.predict(sample_house)\n",
    "prediction"
   ]
  },
  {
   "cell_type": "code",
   "execution_count": 129,
   "metadata": {
    "collapsed": false,
    "scrolled": true
   },
   "outputs": [
    {
     "name": "stdout",
     "output_type": "stream",
     "text": [
      "(samples, features) => (506, 13) (506, 1)\n",
      "sizes => 6578 506\n"
     ]
    },
    {
     "data": {
      "text/plain": [
       "array([[ 59.08103091,   4.41716414],\n",
       "       [ 54.51330111,   4.76402367],\n",
       "       [ 54.51330111,   4.76402367],\n",
       "       ..., \n",
       "       [ 57.13551637,   4.56490061],\n",
       "       [ 57.13551637,   4.56490061],\n",
       "       [ 57.13551637,   4.56490061]])"
      ]
     },
     "execution_count": 129,
     "metadata": {},
     "output_type": "execute_result"
    }
   ],
   "source": [
    "# When you build a model, X for fit() method should have the shape of [n_samples,n_features].\n",
    "# y should have the shape (n_samples, ) - namely should be a np.array().\n",
    "# The same applies to the .predict method.\n",
    "# In a multivariable \n",
    "print('(samples, features) =>', quality.shape, target.shape)\n",
    "print('sizes =>', quality.size, target.size)\n",
    "model = LinearRegression()\n",
    "X = np.array(quality[['TAX']])\n",
    "y = np.array(quality[['AGE', 'DIS']])\n",
    "model.fit(\n",
    "    X, \n",
    "    y\n",
    ")\n",
    "\n",
    "model.predict(X)\n"
   ]
  }
 ],
 "metadata": {
  "kernelspec": {
   "display_name": "Python 3",
   "language": "python",
   "name": "python3"
  },
  "language_info": {
   "codemirror_mode": {
    "name": "ipython",
    "version": 3
   },
   "file_extension": ".py",
   "mimetype": "text/x-python",
   "name": "python",
   "nbconvert_exporter": "python",
   "pygments_lexer": "ipython3",
   "version": "3.5.2"
  }
 },
 "nbformat": 4,
 "nbformat_minor": 2
}

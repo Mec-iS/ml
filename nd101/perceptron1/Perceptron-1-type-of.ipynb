{
 "cells": [
  {
   "cell_type": "markdown",
   "metadata": {
    "deletable": true,
    "editable": true
   },
   "source": [
    "## Introduction"
   ]
  },
  {
   "cell_type": "code",
   "execution_count": 40,
   "metadata": {
    "collapsed": true,
    "deletable": true,
    "editable": true
   },
   "outputs": [],
   "source": [
    "import pandas as pd\n",
    "\n",
    "# a 2x2 matrix with possible combinations of two inputs\n",
    "test_inputs = [(0, 0), (0, 1), (1, 0), (1, 1)]"
   ]
  },
  {
   "cell_type": "markdown",
   "metadata": {
    "deletable": true,
    "editable": true
   },
   "source": [
    "**Perceptrons** are simulated neurons that are described by a **linear combination** function for weights (w) and values (x) like:\n",
    "$$\n",
    "w_{A} * x_{A} + w_{B} * x_{B} = \\sum_{i=1}^m w_{i} * x_{i}\n",
    "$$\n"
   ]
  },
  {
   "cell_type": "markdown",
   "metadata": {
    "deletable": true,
    "editable": true
   },
   "source": [
    "and are activated (they send signals to perceptrons) based on an **activation fuction** like the [Heaviside step function](https://en.wikipedia.org/wiki/Heaviside_step_function) (that is a step function):\n",
    "$$\n",
    "f(h) = \\begin{cases}\n",
    "    0,& \\text{if } h<0\\\\        \n",
    "    1,& \\text{otherwise}\n",
    "\\end{cases}\n",
    "$$"
   ]
  },
  {
   "cell_type": "markdown",
   "metadata": {
    "deletable": true,
    "editable": true
   },
   "source": [
    "## AND perceptron"
   ]
  },
  {
   "cell_type": "markdown",
   "metadata": {
    "deletable": true,
    "editable": true
   },
   "source": [
    "An AND perceptron is a neuron that signal `True` (1) if both of its inputs are `True` (1, 1).\n",
    "\n",
    "If we have a bias (c), we have a complete perceptron __activation function__ for a perceptron:\n",
    "$$\n",
    "f(x_1, x_2, ..., x_m) = \\begin{cases}\n",
    "    0,& \\text{if } c + \\sum w_i * x_i < 0\\\\        \n",
    "    1,& \\text{otherwise}\n",
    "\\end{cases}\n",
    "$$"
   ]
  },
  {
   "cell_type": "code",
   "execution_count": 36,
   "metadata": {
    "collapsed": false,
    "deletable": true,
    "editable": true
   },
   "outputs": [],
   "source": [
    "\"\"\"\n",
    "Tests for an AND perceptron\n",
    "\"\"\"\n",
    "# Expected outputs for the AND neuron, given the test inputs above\n",
    "correct_and = [False, False, False, True]  # the neuron has to fire only on the couple of inputs (1, 1)"
   ]
  },
  {
   "cell_type": "markdown",
   "metadata": {
    "deletable": true,
    "editable": true
   },
   "source": [
    "Solving the system for the activation function for the AND perceptron:\n",
    "$$\n",
    "\\begin{cases}\n",
    "    bias < 0\\\\     \n",
    "    w_2 + bias < 0\\\\\n",
    "    w_1 + bias < 0\\\\\n",
    "    w_1 + w_2 + bias \\geq 0\n",
    "\\end{cases}\n",
    "$$\n"
   ]
  },
  {
   "cell_type": "code",
   "execution_count": 20,
   "metadata": {
    "collapsed": false,
    "deletable": true,
    "editable": true
   },
   "outputs": [],
   "source": [
    "\"\"\"\n",
    "Hyper-parameters for an AND perceptron\n",
    "\"\"\"\n",
    "# Set weight 1, weight 2, and bias to solve the system\n",
    "w_1_and = 1\n",
    "w_2_and = 2\n",
    "bias_and = -3\n",
    "\n",
    "ws_and = [w_1_and, w_2_and]"
   ]
  },
  {
   "cell_type": "code",
   "execution_count": 39,
   "metadata": {
    "collapsed": false,
    "deletable": true,
    "editable": true
   },
   "outputs": [
    {
     "name": "stdout",
     "output_type": "stream",
     "text": [
      "0 False\n",
      "0 False\n",
      "0 False\n",
      "1 True\n",
      "Nice!  You got it all correct.\n",
      "\n",
      "Input 1    Input 2    Linear Combination    Activation Output   Is Correct\n",
      "      0          0                    -3                    0          Yes\n",
      "      0          1                    -1                    0          Yes\n",
      "      1          0                    -2                    0          Yes\n",
      "      1          1                     0                    1          Yes\n"
     ]
    }
   ],
   "source": [
    "def run_test(t_inputs, expected, bias, weights):\n",
    "    \"\"\"\n",
    "    A test case for all the kinds of perceptrons in this notebook \n",
    "    \"\"\"\n",
    "    outputs = []\n",
    "    # Generate and check output\n",
    "    for t_inputs, expected in zip(t_inputs, expected):\n",
    "        linear_combination = weights[0] * t_inputs[0] + weights[1] * t_inputs[1] + bias\n",
    "        output = int(linear_combination >= 0)\n",
    "        print(output, expected)\n",
    "        is_correct_string = 'Yes' if bool(output) == expected else 'No'\n",
    "        outputs.append([t_inputs[0], t_inputs[1], linear_combination, output, is_correct_string])\n",
    "\n",
    "    # Print output\n",
    "    num_wrong = len([output[4] for output in outputs if output[4] == 'No'])\n",
    "    output_frame = pd.DataFrame(outputs, columns=['Input 1', '  Input 2', '  Linear Combination', '  Activation Output', '  Is Correct'])\n",
    "    if not num_wrong:\n",
    "        print('Nice!  You got it all correct.\\n')\n",
    "    else:\n",
    "        print('You got {} wrong.  Keep trying!\\n'.format(num_wrong))\n",
    "    print(output_frame.to_string(index=False))\n",
    "\n",
    "# run tests for AND perceptron\n",
    "run_test(test_inputs, correct_and, bias_and, ws_and)"
   ]
  },
  {
   "cell_type": "markdown",
   "metadata": {
    "collapsed": true,
    "deletable": true,
    "editable": true
   },
   "source": [
    "## OR perceptron"
   ]
  },
  {
   "cell_type": "markdown",
   "metadata": {
    "collapsed": true,
    "deletable": true,
    "editable": true
   },
   "source": [
    "It is possible to achieve the result of an OR perceptron and observe this behavior:\n"
   ]
  },
  {
   "cell_type": "code",
   "execution_count": 38,
   "metadata": {
    "collapsed": false,
    "deletable": true,
    "editable": true
   },
   "outputs": [],
   "source": [
    "# Expected outputs for the OR neuron, given the test inputs above\n",
    "correct_or = [False, True, True, True]"
   ]
  },
  {
   "cell_type": "markdown",
   "metadata": {
    "deletable": true,
    "editable": true
   },
   "source": [
    "Solving the system for the activation function for the OR perceptron:\n",
    "$$\n",
    "\\begin{cases}\n",
    "    bias < 0\\\\     \n",
    "    w_2 + bias \\geq 0\\\\\n",
    "    w_1 + bias \\geq 0\\\\\n",
    "    w_1 + w_2 + bias \\geq 0\n",
    "\\end{cases}\n",
    "$$\n"
   ]
  },
  {
   "cell_type": "code",
   "execution_count": 33,
   "metadata": {
    "collapsed": false,
    "deletable": true,
    "editable": true
   },
   "outputs": [
    {
     "name": "stdout",
     "output_type": "stream",
     "text": [
      "0 False\n",
      "1 True\n",
      "1 True\n",
      "1 True\n",
      "Nice!  You got it all correct.\n",
      "\n",
      "Input 1    Input 2    Linear Combination    Activation Output   Is Correct\n",
      "      0          0                   -12                    0          Yes\n",
      "      0          1                     3                    1          Yes\n",
      "      1          0                     6                    1          Yes\n",
      "      1          1                    21                    1          Yes\n"
     ]
    }
   ],
   "source": [
    "# Set weight 1, weight 2, and bias to solve the system\n",
    "w_1_or = 18\n",
    "w_2_or = 15\n",
    "bias_or = -12\n",
    "\n",
    "ws_or = [w_1, w_2]\n",
    "\n",
    "run_test(test_inputs, correct_or, bias_or, ws_or)"
   ]
  },
  {
   "cell_type": "markdown",
   "metadata": {
    "deletable": true,
    "editable": true
   },
   "source": [
    "## NOT perceptron"
   ]
  },
  {
   "cell_type": "markdown",
   "metadata": {
    "deletable": true,
    "editable": true
   },
   "source": [
    "It is possible to achieve the result of an OR perceptron and observe this behavior:"
   ]
  },
  {
   "cell_type": "code",
   "execution_count": 45,
   "metadata": {
    "collapsed": true,
    "deletable": true,
    "editable": true
   },
   "outputs": [],
   "source": [
    "# Expected outputs for the NOT neuron, given the test inputs above\n",
    "correct_not = [True, False, True, False]"
   ]
  },
  {
   "cell_type": "markdown",
   "metadata": {
    "deletable": true,
    "editable": true
   },
   "source": [
    "Solving the system for the activation function for the OR perceptron:\n",
    "$$\n",
    "\\begin{cases}\n",
    "    bias \\geq 0\\\\     \n",
    "    w_2 + bias < 0\\\\\n",
    "    w_1 + bias \\geq 0\\\\\n",
    "    w_1 + w_2 + bias < 0\n",
    "\\end{cases}\n",
    "$$"
   ]
  },
  {
   "cell_type": "code",
   "execution_count": 48,
   "metadata": {
    "collapsed": false,
    "deletable": true,
    "editable": true
   },
   "outputs": [
    {
     "name": "stdout",
     "output_type": "stream",
     "text": [
      "1 True\n",
      "0 False\n",
      "1 True\n",
      "0 False\n",
      "Nice!  You got it all correct.\n",
      "\n",
      "Input 1    Input 2    Linear Combination    Activation Output   Is Correct\n",
      "      0          0                    12                    1          Yes\n",
      "      0          1                   -20                    0          Yes\n",
      "      1          0                    30                    1          Yes\n",
      "      1          1                    -2                    0          Yes\n"
     ]
    }
   ],
   "source": [
    "# Set weight 1, weight 2, and bias to solve the system\n",
    "w_1_not = 18\n",
    "w_2_not = -32\n",
    "bias_not = 12\n",
    "\n",
    "ws_not = [w_1_not, w_2_not]\n",
    "\n",
    "run_test(test_inputs, correct_not, bias_not, ws_not)"
   ]
  },
  {
   "cell_type": "markdown",
   "metadata": {
    "deletable": true,
    "editable": true
   },
   "source": [
    "---"
   ]
  },
  {
   "cell_type": "markdown",
   "metadata": {},
   "source": [
    "### XOR Perceptron"
   ]
  },
  {
   "cell_type": "markdown",
   "metadata": {},
   "source": [
    "A XOR perceptron is a gate that outputs `0` if the inputs are the same and `1` if the imput are different. "
   ]
  },
  {
   "cell_type": "markdown",
   "metadata": {},
   "source": [
    "Solving the system for the activation function for the XOR perceptron:\n",
    "$$\n",
    "\\begin{cases}\n",
    "    bias > 0\\\\     \n",
    "    w_2 + bias \\leq 0\\\\\n",
    "    w_1 + bias \\leq 0\\\\\n",
    "    w_1 + w_2 + bias > 0\n",
    "\\end{cases}\n",
    "$$"
   ]
  },
  {
   "cell_type": "markdown",
   "metadata": {},
   "source": [
    "This peceptron can be represented as a series if simpler perceptrons. Passing inputs in something like:\n",
    "```\n",
    "-> NOT --> AND --> OR -->\n",
    "```\n",
    "Outputs the result for a XOR operation. Stacking units will let you model linearly inseparable data, impossible to do with regression models."
   ]
  },
  {
   "cell_type": "code",
   "execution_count": null,
   "metadata": {
    "collapsed": true
   },
   "outputs": [],
   "source": []
  },
  {
   "cell_type": "markdown",
   "metadata": {
    "deletable": true,
    "editable": true
   },
   "source": [
    "### Graphical representations of perceptrons' functions"
   ]
  },
  {
   "cell_type": "code",
   "execution_count": null,
   "metadata": {
    "collapsed": true,
    "deletable": true,
    "editable": true
   },
   "outputs": [],
   "source": [
    "# AND\n",
    "x_values_and = [0, 0, 1, 1]\n",
    "y_values_and = [0, 1, 0, 1]"
   ]
  },
  {
   "cell_type": "code",
   "execution_count": null,
   "metadata": {
    "collapsed": true
   },
   "outputs": [],
   "source": [
    "# TODO: Draw graphs for the different operations "
   ]
  },
  {
   "cell_type": "markdown",
   "metadata": {
    "deletable": true,
    "editable": true
   },
   "source": [
    "__As proposed in the ND101 by udacity.com__"
   ]
  }
 ],
 "metadata": {
  "kernelspec": {
   "display_name": "Python 3",
   "language": "python",
   "name": "python3"
  },
  "language_info": {
   "codemirror_mode": {
    "name": "ipython",
    "version": 3
   },
   "file_extension": ".py",
   "mimetype": "text/x-python",
   "name": "python",
   "nbconvert_exporter": "python",
   "pygments_lexer": "ipython3",
   "version": "3.5.2"
  }
 },
 "nbformat": 4,
 "nbformat_minor": 2
}
